{
 "cells": [
  {
   "cell_type": "code",
   "execution_count": 1,
   "id": "00e0c6a4",
   "metadata": {},
   "outputs": [],
   "source": [
    "# import lib\n",
    "import pandas as pd\n",
    "import numpy as np\n",
    "import itertools\n",
    "import pandas as pd\n",
    "import numpy as np\n",
    "import itertools\n",
    "from sklearn.feature_extraction.text import CountVectorizer, TfidfVectorizer, HashingVectorizer\n",
    "from sklearn.model_selection import train_test_split\n",
    "from sklearn.linear_model import PassiveAggressiveClassifier\n",
    "from sklearn.naive_bayes import MultinomialNB\n",
    "from sklearn import metrics\n",
    "import matplotlib.pyplot as plt"
   ]
  },
  {
   "cell_type": "code",
   "execution_count": 2,
   "id": "cefe46f3",
   "metadata": {},
   "outputs": [],
   "source": [
    "# load the data\n",
    "dataset = pd.read_csv('news.csv',index_col = None)"
   ]
  },
  {
   "cell_type": "code",
   "execution_count": 3,
   "id": "45876ba8",
   "metadata": {},
   "outputs": [
    {
     "data": {
      "text/html": [
       "<div>\n",
       "<style scoped>\n",
       "    .dataframe tbody tr th:only-of-type {\n",
       "        vertical-align: middle;\n",
       "    }\n",
       "\n",
       "    .dataframe tbody tr th {\n",
       "        vertical-align: top;\n",
       "    }\n",
       "\n",
       "    .dataframe thead th {\n",
       "        text-align: right;\n",
       "    }\n",
       "</style>\n",
       "<table border=\"1\" class=\"dataframe\">\n",
       "  <thead>\n",
       "    <tr style=\"text-align: right;\">\n",
       "      <th></th>\n",
       "      <th>Unnamed: 0</th>\n",
       "      <th>title</th>\n",
       "      <th>text</th>\n",
       "      <th>label</th>\n",
       "    </tr>\n",
       "  </thead>\n",
       "  <tbody>\n",
       "    <tr>\n",
       "      <th>0</th>\n",
       "      <td>8476</td>\n",
       "      <td>You Can Smell Hillary’s Fear</td>\n",
       "      <td>Daniel Greenfield, a Shillman Journalism Fello...</td>\n",
       "      <td>FAKE</td>\n",
       "    </tr>\n",
       "    <tr>\n",
       "      <th>1</th>\n",
       "      <td>10294</td>\n",
       "      <td>Watch The Exact Moment Paul Ryan Committed Pol...</td>\n",
       "      <td>Google Pinterest Digg Linkedin Reddit Stumbleu...</td>\n",
       "      <td>FAKE</td>\n",
       "    </tr>\n",
       "    <tr>\n",
       "      <th>2</th>\n",
       "      <td>3608</td>\n",
       "      <td>Kerry to go to Paris in gesture of sympathy</td>\n",
       "      <td>U.S. Secretary of State John F. Kerry said Mon...</td>\n",
       "      <td>REAL</td>\n",
       "    </tr>\n",
       "    <tr>\n",
       "      <th>3</th>\n",
       "      <td>10142</td>\n",
       "      <td>Bernie supporters on Twitter erupt in anger ag...</td>\n",
       "      <td>— Kaydee King (@KaydeeKing) November 9, 2016 T...</td>\n",
       "      <td>FAKE</td>\n",
       "    </tr>\n",
       "    <tr>\n",
       "      <th>4</th>\n",
       "      <td>875</td>\n",
       "      <td>The Battle of New York: Why This Primary Matters</td>\n",
       "      <td>It's primary day in New York and front-runners...</td>\n",
       "      <td>REAL</td>\n",
       "    </tr>\n",
       "    <tr>\n",
       "      <th>...</th>\n",
       "      <td>...</td>\n",
       "      <td>...</td>\n",
       "      <td>...</td>\n",
       "      <td>...</td>\n",
       "    </tr>\n",
       "    <tr>\n",
       "      <th>6330</th>\n",
       "      <td>4490</td>\n",
       "      <td>State Department says it can't find emails fro...</td>\n",
       "      <td>The State Department told the Republican Natio...</td>\n",
       "      <td>REAL</td>\n",
       "    </tr>\n",
       "    <tr>\n",
       "      <th>6331</th>\n",
       "      <td>8062</td>\n",
       "      <td>The ‘P’ in PBS Should Stand for ‘Plutocratic’ ...</td>\n",
       "      <td>The ‘P’ in PBS Should Stand for ‘Plutocratic’ ...</td>\n",
       "      <td>FAKE</td>\n",
       "    </tr>\n",
       "    <tr>\n",
       "      <th>6332</th>\n",
       "      <td>8622</td>\n",
       "      <td>Anti-Trump Protesters Are Tools of the Oligarc...</td>\n",
       "      <td>Anti-Trump Protesters Are Tools of the Oligar...</td>\n",
       "      <td>FAKE</td>\n",
       "    </tr>\n",
       "    <tr>\n",
       "      <th>6333</th>\n",
       "      <td>4021</td>\n",
       "      <td>In Ethiopia, Obama seeks progress on peace, se...</td>\n",
       "      <td>ADDIS ABABA, Ethiopia —President Obama convene...</td>\n",
       "      <td>REAL</td>\n",
       "    </tr>\n",
       "    <tr>\n",
       "      <th>6334</th>\n",
       "      <td>4330</td>\n",
       "      <td>Jeb Bush Is Suddenly Attacking Trump. Here's W...</td>\n",
       "      <td>Jeb Bush Is Suddenly Attacking Trump. Here's W...</td>\n",
       "      <td>REAL</td>\n",
       "    </tr>\n",
       "  </tbody>\n",
       "</table>\n",
       "<p>6335 rows × 4 columns</p>\n",
       "</div>"
      ],
      "text/plain": [
       "      Unnamed: 0                                              title  \\\n",
       "0           8476                       You Can Smell Hillary’s Fear   \n",
       "1          10294  Watch The Exact Moment Paul Ryan Committed Pol...   \n",
       "2           3608        Kerry to go to Paris in gesture of sympathy   \n",
       "3          10142  Bernie supporters on Twitter erupt in anger ag...   \n",
       "4            875   The Battle of New York: Why This Primary Matters   \n",
       "...          ...                                                ...   \n",
       "6330        4490  State Department says it can't find emails fro...   \n",
       "6331        8062  The ‘P’ in PBS Should Stand for ‘Plutocratic’ ...   \n",
       "6332        8622  Anti-Trump Protesters Are Tools of the Oligarc...   \n",
       "6333        4021  In Ethiopia, Obama seeks progress on peace, se...   \n",
       "6334        4330  Jeb Bush Is Suddenly Attacking Trump. Here's W...   \n",
       "\n",
       "                                                   text label  \n",
       "0     Daniel Greenfield, a Shillman Journalism Fello...  FAKE  \n",
       "1     Google Pinterest Digg Linkedin Reddit Stumbleu...  FAKE  \n",
       "2     U.S. Secretary of State John F. Kerry said Mon...  REAL  \n",
       "3     — Kaydee King (@KaydeeKing) November 9, 2016 T...  FAKE  \n",
       "4     It's primary day in New York and front-runners...  REAL  \n",
       "...                                                 ...   ...  \n",
       "6330  The State Department told the Republican Natio...  REAL  \n",
       "6331  The ‘P’ in PBS Should Stand for ‘Plutocratic’ ...  FAKE  \n",
       "6332   Anti-Trump Protesters Are Tools of the Oligar...  FAKE  \n",
       "6333  ADDIS ABABA, Ethiopia —President Obama convene...  REAL  \n",
       "6334  Jeb Bush Is Suddenly Attacking Trump. Here's W...  REAL  \n",
       "\n",
       "[6335 rows x 4 columns]"
      ]
     },
     "execution_count": 3,
     "metadata": {},
     "output_type": "execute_result"
    }
   ],
   "source": [
    "dataset"
   ]
  },
  {
   "cell_type": "code",
   "execution_count": 4,
   "id": "b9d3dbca",
   "metadata": {},
   "outputs": [],
   "source": [
    "df = dataset"
   ]
  },
  {
   "cell_type": "code",
   "execution_count": 5,
   "id": "d2759d6d",
   "metadata": {},
   "outputs": [
    {
     "data": {
      "text/plain": [
       "Index(['Unnamed: 0', 'title', 'text', 'label'], dtype='object')"
      ]
     },
     "execution_count": 5,
     "metadata": {},
     "output_type": "execute_result"
    }
   ],
   "source": [
    "df.columns"
   ]
  },
  {
   "cell_type": "code",
   "execution_count": 6,
   "id": "32e5eac0",
   "metadata": {},
   "outputs": [
    {
     "data": {
      "text/html": [
       "<div>\n",
       "<style scoped>\n",
       "    .dataframe tbody tr th:only-of-type {\n",
       "        vertical-align: middle;\n",
       "    }\n",
       "\n",
       "    .dataframe tbody tr th {\n",
       "        vertical-align: top;\n",
       "    }\n",
       "\n",
       "    .dataframe thead th {\n",
       "        text-align: right;\n",
       "    }\n",
       "</style>\n",
       "<table border=\"1\" class=\"dataframe\">\n",
       "  <thead>\n",
       "    <tr style=\"text-align: right;\">\n",
       "      <th></th>\n",
       "      <th>title</th>\n",
       "      <th>text</th>\n",
       "      <th>label</th>\n",
       "    </tr>\n",
       "  </thead>\n",
       "  <tbody>\n",
       "    <tr>\n",
       "      <th>0</th>\n",
       "      <td>You Can Smell Hillary’s Fear</td>\n",
       "      <td>Daniel Greenfield, a Shillman Journalism Fello...</td>\n",
       "      <td>FAKE</td>\n",
       "    </tr>\n",
       "    <tr>\n",
       "      <th>1</th>\n",
       "      <td>Watch The Exact Moment Paul Ryan Committed Pol...</td>\n",
       "      <td>Google Pinterest Digg Linkedin Reddit Stumbleu...</td>\n",
       "      <td>FAKE</td>\n",
       "    </tr>\n",
       "    <tr>\n",
       "      <th>2</th>\n",
       "      <td>Kerry to go to Paris in gesture of sympathy</td>\n",
       "      <td>U.S. Secretary of State John F. Kerry said Mon...</td>\n",
       "      <td>REAL</td>\n",
       "    </tr>\n",
       "    <tr>\n",
       "      <th>3</th>\n",
       "      <td>Bernie supporters on Twitter erupt in anger ag...</td>\n",
       "      <td>— Kaydee King (@KaydeeKing) November 9, 2016 T...</td>\n",
       "      <td>FAKE</td>\n",
       "    </tr>\n",
       "    <tr>\n",
       "      <th>4</th>\n",
       "      <td>The Battle of New York: Why This Primary Matters</td>\n",
       "      <td>It's primary day in New York and front-runners...</td>\n",
       "      <td>REAL</td>\n",
       "    </tr>\n",
       "    <tr>\n",
       "      <th>...</th>\n",
       "      <td>...</td>\n",
       "      <td>...</td>\n",
       "      <td>...</td>\n",
       "    </tr>\n",
       "    <tr>\n",
       "      <th>6330</th>\n",
       "      <td>State Department says it can't find emails fro...</td>\n",
       "      <td>The State Department told the Republican Natio...</td>\n",
       "      <td>REAL</td>\n",
       "    </tr>\n",
       "    <tr>\n",
       "      <th>6331</th>\n",
       "      <td>The ‘P’ in PBS Should Stand for ‘Plutocratic’ ...</td>\n",
       "      <td>The ‘P’ in PBS Should Stand for ‘Plutocratic’ ...</td>\n",
       "      <td>FAKE</td>\n",
       "    </tr>\n",
       "    <tr>\n",
       "      <th>6332</th>\n",
       "      <td>Anti-Trump Protesters Are Tools of the Oligarc...</td>\n",
       "      <td>Anti-Trump Protesters Are Tools of the Oligar...</td>\n",
       "      <td>FAKE</td>\n",
       "    </tr>\n",
       "    <tr>\n",
       "      <th>6333</th>\n",
       "      <td>In Ethiopia, Obama seeks progress on peace, se...</td>\n",
       "      <td>ADDIS ABABA, Ethiopia —President Obama convene...</td>\n",
       "      <td>REAL</td>\n",
       "    </tr>\n",
       "    <tr>\n",
       "      <th>6334</th>\n",
       "      <td>Jeb Bush Is Suddenly Attacking Trump. Here's W...</td>\n",
       "      <td>Jeb Bush Is Suddenly Attacking Trump. Here's W...</td>\n",
       "      <td>REAL</td>\n",
       "    </tr>\n",
       "  </tbody>\n",
       "</table>\n",
       "<p>6335 rows × 3 columns</p>\n",
       "</div>"
      ],
      "text/plain": [
       "                                                  title  \\\n",
       "0                          You Can Smell Hillary’s Fear   \n",
       "1     Watch The Exact Moment Paul Ryan Committed Pol...   \n",
       "2           Kerry to go to Paris in gesture of sympathy   \n",
       "3     Bernie supporters on Twitter erupt in anger ag...   \n",
       "4      The Battle of New York: Why This Primary Matters   \n",
       "...                                                 ...   \n",
       "6330  State Department says it can't find emails fro...   \n",
       "6331  The ‘P’ in PBS Should Stand for ‘Plutocratic’ ...   \n",
       "6332  Anti-Trump Protesters Are Tools of the Oligarc...   \n",
       "6333  In Ethiopia, Obama seeks progress on peace, se...   \n",
       "6334  Jeb Bush Is Suddenly Attacking Trump. Here's W...   \n",
       "\n",
       "                                                   text label  \n",
       "0     Daniel Greenfield, a Shillman Journalism Fello...  FAKE  \n",
       "1     Google Pinterest Digg Linkedin Reddit Stumbleu...  FAKE  \n",
       "2     U.S. Secretary of State John F. Kerry said Mon...  REAL  \n",
       "3     — Kaydee King (@KaydeeKing) November 9, 2016 T...  FAKE  \n",
       "4     It's primary day in New York and front-runners...  REAL  \n",
       "...                                                 ...   ...  \n",
       "6330  The State Department told the Republican Natio...  REAL  \n",
       "6331  The ‘P’ in PBS Should Stand for ‘Plutocratic’ ...  FAKE  \n",
       "6332   Anti-Trump Protesters Are Tools of the Oligar...  FAKE  \n",
       "6333  ADDIS ABABA, Ethiopia —President Obama convene...  REAL  \n",
       "6334  Jeb Bush Is Suddenly Attacking Trump. Here's W...  REAL  \n",
       "\n",
       "[6335 rows x 3 columns]"
      ]
     },
     "execution_count": 6,
     "metadata": {},
     "output_type": "execute_result"
    }
   ],
   "source": [
    "# drop the unwanted column\n",
    "df.drop('Unnamed: 0',axis =1)"
   ]
  },
  {
   "cell_type": "code",
   "execution_count": 7,
   "id": "8ebee0f0",
   "metadata": {},
   "outputs": [],
   "source": [
    "# x is input and y is output\n",
    "x = df['title']\n",
    "y = df['label']"
   ]
  },
  {
   "cell_type": "code",
   "execution_count": 8,
   "id": "c9bb36e0",
   "metadata": {},
   "outputs": [],
   "source": [
    "#spliting data into training and testing\n",
    "x_train,x_test,y_train,y_test = train_test_split(x,y,test_size =0.33,random_state =53)"
   ]
  },
  {
   "cell_type": "markdown",
   "id": "8de1022b",
   "metadata": {},
   "source": [
    "# Count Vector"
   ]
  },
  {
   "cell_type": "code",
   "execution_count": 9,
   "id": "05ce8954",
   "metadata": {},
   "outputs": [
    {
     "name": "stdout",
     "output_type": "stream",
     "text": [
      "  (0, 5763)\t1\n",
      "  (0, 5842)\t1\n",
      "  (0, 2475)\t1\n",
      "  (0, 5161)\t1\n",
      "  (0, 1560)\t1\n",
      "  (0, 1011)\t1\n",
      "  (0, 7360)\t1\n",
      "  (0, 2394)\t1\n",
      "  (0, 397)\t1\n",
      "  (0, 4616)\t1\n",
      "  (0, 7373)\t1\n",
      "  (1, 7360)\t1\n",
      "  (1, 7163)\t1\n",
      "  (1, 2237)\t1\n",
      "  (1, 6236)\t1\n",
      "  (1, 4947)\t1\n",
      "  (2, 801)\t1\n",
      "  (2, 1128)\t1\n",
      "  (2, 2453)\t1\n",
      "  (3, 6196)\t1\n",
      "  (3, 4157)\t1\n",
      "  (3, 4785)\t1\n",
      "  (3, 4251)\t1\n",
      "  (3, 3035)\t1\n",
      "  (3, 4027)\t1\n",
      "  :\t:\n",
      "  (4240, 3403)\t1\n",
      "  (4240, 1961)\t1\n",
      "  (4240, 4889)\t1\n",
      "  (4240, 5963)\t1\n",
      "  (4241, 2358)\t1\n",
      "  (4241, 61)\t1\n",
      "  (4241, 5779)\t1\n",
      "  (4241, 943)\t1\n",
      "  (4242, 7360)\t1\n",
      "  (4242, 1424)\t1\n",
      "  (4242, 5133)\t1\n",
      "  (4242, 7816)\t1\n",
      "  (4242, 7702)\t1\n",
      "  (4242, 4464)\t1\n",
      "  (4242, 4013)\t1\n",
      "  (4242, 3981)\t1\n",
      "  (4242, 204)\t1\n",
      "  (4242, 5915)\t1\n",
      "  (4243, 7360)\t1\n",
      "  (4243, 1140)\t1\n",
      "  (4243, 1818)\t1\n",
      "  (4243, 6159)\t1\n",
      "  (4243, 6141)\t1\n",
      "  (4243, 4419)\t1\n",
      "  (4243, 6823)\t1\n"
     ]
    }
   ],
   "source": [
    "# countvector \n",
    "count_vect = CountVectorizer(stop_words ='english') # stop words = engkish will remove the words is the all a like that words\n",
    "count_train = count_vect.fit_transform(x_train) \n",
    "print(count_train)\n",
    "count_test = count_vect.transform(x_test)"
   ]
  },
  {
   "cell_type": "code",
   "execution_count": 10,
   "id": "8caddeaa",
   "metadata": {},
   "outputs": [
    {
     "data": {
      "text/plain": [
       "7959"
      ]
     },
     "execution_count": 10,
     "metadata": {},
     "output_type": "execute_result"
    }
   ],
   "source": [
    "# to get the length of vec\n",
    "len(count_vect.get_feature_names_out())"
   ]
  },
  {
   "cell_type": "code",
   "execution_count": 11,
   "id": "d76c6d9d",
   "metadata": {},
   "outputs": [
    {
     "name": "stdout",
     "output_type": "stream",
     "text": [
      "[[0 0 0 ... 0 0 0]\n",
      " [0 0 0 ... 0 0 0]\n",
      " [0 0 0 ... 0 0 0]\n",
      " ...\n",
      " [0 0 0 ... 0 0 0]\n",
      " [0 0 0 ... 0 0 0]\n",
      " [0 0 0 ... 0 0 0]]\n"
     ]
    }
   ],
   "source": [
    "# know hw the input transform\n",
    "print(count_train.toarray())"
   ]
  },
  {
   "cell_type": "code",
   "execution_count": 12,
   "id": "6523fe2a",
   "metadata": {},
   "outputs": [
    {
     "data": {
      "text/plain": [
       "2576    FAKE\n",
       "1539    FAKE\n",
       "5163    REAL\n",
       "2615    FAKE\n",
       "4270    FAKE\n",
       "        ... \n",
       "662     REAL\n",
       "3261    REAL\n",
       "5883    REAL\n",
       "2933    REAL\n",
       "797     REAL\n",
       "Name: label, Length: 4244, dtype: object"
      ]
     },
     "execution_count": 12,
     "metadata": {},
     "output_type": "execute_result"
    }
   ],
   "source": [
    "# to know how the output transform\n",
    "y_train"
   ]
  },
  {
   "cell_type": "code",
   "execution_count": 13,
   "id": "e5d1688b",
   "metadata": {},
   "outputs": [
    {
     "name": "stdout",
     "output_type": "stream",
     "text": [
      "accuracy: 0.797\n"
     ]
    }
   ],
   "source": [
    "# to create a model\n",
    "classifier = MultinomialNB()\n",
    "classifier.fit(count_train,y_train)\n",
    "pred = classifier.predict(count_test)\n",
    "score = metrics.accuracy_score(y_test,pred)\n",
    "print(\"accuracy: %0.3f\" %score)"
   ]
  },
  {
   "cell_type": "code",
   "execution_count": 14,
   "id": "2f166285",
   "metadata": {},
   "outputs": [],
   "source": [
    "from sklearn.metrics import confusion_matrix\n",
    "cm = metrics.confusion_matrix(y_test,pred,labels =['FAKE','REAL'])"
   ]
  },
  {
   "cell_type": "code",
   "execution_count": 15,
   "id": "5295ca1e",
   "metadata": {},
   "outputs": [
    {
     "data": {
      "text/plain": [
       "array([[773, 235],\n",
       "       [189, 894]], dtype=int64)"
      ]
     },
     "execution_count": 15,
     "metadata": {},
     "output_type": "execute_result"
    }
   ],
   "source": [
    "cm"
   ]
  },
  {
   "cell_type": "code",
   "execution_count": 16,
   "id": "a6543c57",
   "metadata": {},
   "outputs": [],
   "source": [
    "from sklearn.metrics import classification_report\n",
    "report = classification_report(y_test,pred)"
   ]
  },
  {
   "cell_type": "code",
   "execution_count": 17,
   "id": "45669b56",
   "metadata": {},
   "outputs": [
    {
     "name": "stdout",
     "output_type": "stream",
     "text": [
      "              precision    recall  f1-score   support\n",
      "\n",
      "        FAKE       0.80      0.77      0.78      1008\n",
      "        REAL       0.79      0.83      0.81      1083\n",
      "\n",
      "    accuracy                           0.80      2091\n",
      "   macro avg       0.80      0.80      0.80      2091\n",
      "weighted avg       0.80      0.80      0.80      2091\n",
      "\n"
     ]
    }
   ],
   "source": [
    "print(report)"
   ]
  },
  {
   "cell_type": "code",
   "execution_count": 18,
   "id": "94390f30",
   "metadata": {},
   "outputs": [
    {
     "data": {
      "text/plain": [
       "'You Can Smell Hillary’s Fear'"
      ]
     },
     "execution_count": 18,
     "metadata": {},
     "output_type": "execute_result"
    }
   ],
   "source": [
    "df['title'][0]"
   ]
  },
  {
   "cell_type": "code",
   "execution_count": 19,
   "id": "ff98e67d",
   "metadata": {},
   "outputs": [
    {
     "data": {
      "text/plain": [
       "<1x7959 sparse matrix of type '<class 'numpy.int64'>'\n",
       "\twith 11 stored elements in Compressed Sparse Row format>"
      ]
     },
     "execution_count": 19,
     "metadata": {},
     "output_type": "execute_result"
    }
   ],
   "source": [
    "count_train[[0]]"
   ]
  },
  {
   "cell_type": "code",
   "execution_count": 20,
   "id": "6e99e937",
   "metadata": {},
   "outputs": [
    {
     "data": {
      "text/plain": [
       "'You Can Smell Hillary’s Fear'"
      ]
     },
     "execution_count": 20,
     "metadata": {},
     "output_type": "execute_result"
    }
   ],
   "source": [
    "x_train[0]"
   ]
  },
  {
   "cell_type": "code",
   "execution_count": 21,
   "id": "0760e0a2",
   "metadata": {},
   "outputs": [
    {
     "data": {
      "text/plain": [
       "array(['FAKE'], dtype='<U4')"
      ]
     },
     "execution_count": 21,
     "metadata": {},
     "output_type": "execute_result"
    }
   ],
   "source": [
    "classifier.predict(count_train[[0]])"
   ]
  },
  {
   "cell_type": "code",
   "execution_count": 22,
   "id": "eb8386e7",
   "metadata": {},
   "outputs": [],
   "source": [
    "results = []"
   ]
  },
  {
   "cell_type": "code",
   "execution_count": 23,
   "id": "04bf8685",
   "metadata": {},
   "outputs": [
    {
     "name": "stdout",
     "output_type": "stream",
     "text": [
      "PassiveAggressive accuracy: 0.765\n"
     ]
    }
   ],
   "source": [
    "# PassiveAggressiveClassifier\n",
    "classifier = PassiveAggressiveClassifier()\n",
    "classifier.fit(count_train, y_train)\n",
    "pred = classifier.predict(count_test)\n",
    "score = metrics.accuracy_score(y_test, pred)\n",
    "results.append(('PassiveAggressive', score))\n",
    "print(\"PassiveAggressive accuracy: %0.3f\" % score)"
   ]
  },
  {
   "cell_type": "code",
   "execution_count": 24,
   "id": "d21ac346",
   "metadata": {},
   "outputs": [
    {
     "name": "stdout",
     "output_type": "stream",
     "text": [
      "accuracy: 0.808\n"
     ]
    }
   ],
   "source": [
    "from sklearn.ensemble import RandomForestClassifier\n",
    "classifier = RandomForestClassifier()\n",
    "classifier.fit(count_train,y_train)\n",
    "pred = classifier.predict(count_test)\n",
    "score = metrics.accuracy_score(y_test,pred)\n",
    "results.append(('RandomForestClassifier',score))\n",
    "print(\"accuracy: %0.3f\" %score)"
   ]
  },
  {
   "cell_type": "code",
   "execution_count": 25,
   "id": "51c5ad42",
   "metadata": {},
   "outputs": [
    {
     "name": "stdout",
     "output_type": "stream",
     "text": [
      "accuracy: 0.764\n"
     ]
    }
   ],
   "source": [
    "from sklearn.tree import DecisionTreeClassifier\n",
    "classifier = DecisionTreeClassifier()\n",
    "classifier.fit(count_train,y_train)\n",
    "pred = classifier.predict(count_test)\n",
    "score = metrics.accuracy_score(y_test,pred)\n",
    "results.append(('DecisionTreeClassifier',score))\n",
    "print(\"accuracy: %0.3f\" %score)"
   ]
  },
  {
   "cell_type": "code",
   "execution_count": 26,
   "id": "5f0461fb",
   "metadata": {},
   "outputs": [
    {
     "name": "stdout",
     "output_type": "stream",
     "text": [
      "accuracy: 0.807\n"
     ]
    }
   ],
   "source": [
    "from sklearn.linear_model import LogisticRegression\n",
    "classifier = LogisticRegression()\n",
    "classifier.fit(count_train,y_train)\n",
    "pred = classifier.predict(count_test)\n",
    "score = metrics.accuracy_score(y_test,pred)\n",
    "results.append(('LogisticRegression',score))\n",
    "print(\"accuracy: %0.3f\" %score)"
   ]
  },
  {
   "cell_type": "code",
   "execution_count": 27,
   "id": "70536d57",
   "metadata": {},
   "outputs": [
    {
     "name": "stdout",
     "output_type": "stream",
     "text": [
      "accuracy: 0.804\n"
     ]
    }
   ],
   "source": [
    "from sklearn.svm import SVC\n",
    "classifier = SVC()\n",
    "classifier.fit(count_train,y_train)\n",
    "pred = classifier.predict(count_test)\n",
    "score = metrics.accuracy_score(y_test,pred)\n",
    "results.append(('SVC',score))\n",
    "\n",
    "print(\"accuracy: %0.3f\" %score)"
   ]
  },
  {
   "cell_type": "code",
   "execution_count": 28,
   "id": "fdb9785c",
   "metadata": {},
   "outputs": [
    {
     "name": "stdout",
     "output_type": "stream",
     "text": [
      "                Algorithm  Accuracy\n",
      "0       PassiveAggressive  0.764706\n",
      "1  RandomForestClassifier  0.807747\n",
      "2  DecisionTreeClassifier  0.763749\n",
      "3      LogisticRegression  0.806791\n",
      "4                     SVC  0.804400\n"
     ]
    }
   ],
   "source": [
    "# Create DataFrame\n",
    "algorithm_comp = pd.DataFrame(results, columns=['Algorithm', 'Accuracy'])\n",
    "\n",
    "print(algorithm_comp)\n"
   ]
  },
  {
   "cell_type": "code",
   "execution_count": 30,
   "id": "69ebe19b",
   "metadata": {},
   "outputs": [
    {
     "name": "stdout",
     "output_type": "stream",
     "text": [
      "              precision    recall  f1-score   support\n",
      "\n",
      "        FAKE       0.77      0.83      0.80      1008\n",
      "        REAL       0.83      0.77      0.80      1083\n",
      "\n",
      "    accuracy                           0.80      2091\n",
      "   macro avg       0.80      0.80      0.80      2091\n",
      "weighted avg       0.80      0.80      0.80      2091\n",
      "\n"
     ]
    }
   ],
   "source": [
    "from sklearn.ensemble import RandomForestClassifier\n",
    "classifier = RandomForestClassifier()\n",
    "classifier.fit(count_train,y_train)\n",
    "pred = classifier.predict(count_test)\n",
    "score = metrics.accuracy_score(y_test,pred)\n",
    "from sklearn.metrics import classification_report\n",
    "report = classification_report(y_test,pred)\n",
    "print(report)"
   ]
  },
  {
   "cell_type": "code",
   "execution_count": 42,
   "id": "c987ef52",
   "metadata": {},
   "outputs": [
    {
     "data": {
      "text/plain": [
       "array(['REAL'], dtype=object)"
      ]
     },
     "execution_count": 42,
     "metadata": {},
     "output_type": "execute_result"
    }
   ],
   "source": [
    "classifier.predict(count_train[661])"
   ]
  },
  {
   "cell_type": "markdown",
   "id": "4d99f09c",
   "metadata": {},
   "source": [
    "# TF IDF Vector"
   ]
  },
  {
   "cell_type": "code",
   "execution_count": 31,
   "id": "01720bab",
   "metadata": {},
   "outputs": [
    {
     "name": "stdout",
     "output_type": "stream",
     "text": [
      "  (0, 5763)\t0.346605480233628\n",
      "  (0, 5842)\t0.3767601806099568\n",
      "  (0, 2475)\t0.3767601806099568\n",
      "  (0, 5161)\t0.346605480233628\n",
      "  (0, 1560)\t0.3767601806099568\n",
      "  (0, 1011)\t0.29532923002507444\n",
      "  (0, 7360)\t0.12129935283439379\n",
      "  (0, 2394)\t0.18922301728552432\n",
      "  (0, 397)\t0.20125442786171469\n",
      "  (0, 4616)\t0.2921052340852979\n",
      "  (0, 7373)\t0.2651745296487456\n",
      "  (1, 7360)\t0.18342706282928595\n",
      "  (1, 7163)\t0.40357312802285594\n",
      "  (1, 2237)\t0.5241316108799687\n",
      "  (1, 6236)\t0.5697310967080482\n",
      "  (1, 4947)\t0.45185813579029693\n",
      "  (2, 801)\t0.4632921828956465\n",
      "  (2, 1128)\t0.564372529874744\n",
      "  (2, 2453)\t0.683259834024047\n",
      "  (3, 6196)\t0.31940545290593947\n",
      "  (3, 4157)\t0.37342295226891226\n",
      "  (3, 4785)\t0.37342295226891226\n",
      "  (3, 4251)\t0.37342295226891226\n",
      "  (3, 3035)\t0.37342295226891226\n",
      "  (3, 4027)\t0.37342295226891226\n",
      "  :\t:\n",
      "  (4240, 3403)\t0.3749477704238797\n",
      "  (4240, 1961)\t0.37969761277453634\n",
      "  (4240, 4889)\t0.422738514913017\n",
      "  (4240, 5963)\t0.45062384744664014\n",
      "  (4241, 2358)\t0.45345243237434196\n",
      "  (4241, 61)\t0.4621568896880738\n",
      "  (4241, 5779)\t0.4669549915145087\n",
      "  (4241, 943)\t0.6022831035213619\n",
      "  (4242, 7360)\t0.12946196175608246\n",
      "  (4242, 1424)\t0.2830189445688367\n",
      "  (4242, 5133)\t0.28126660234177914\n",
      "  (4242, 7816)\t0.3377457323741944\n",
      "  (4242, 7702)\t0.29758255369982517\n",
      "  (4242, 4464)\t0.308558452955199\n",
      "  (4242, 4013)\t0.33227688252462456\n",
      "  (4242, 3981)\t0.3273848296326708\n",
      "  (4242, 204)\t0.38328716270747004\n",
      "  (4242, 5915)\t0.40211353938494176\n",
      "  (4243, 7360)\t0.17200981894982678\n",
      "  (4243, 1140)\t0.2941770551167949\n",
      "  (4243, 1818)\t0.3106782196704234\n",
      "  (4243, 6159)\t0.4022451418578456\n",
      "  (4243, 6141)\t0.3344702608054275\n",
      "  (4243, 4419)\t0.477741506834441\n",
      "  (4243, 6823)\t0.5342687239453036\n"
     ]
    }
   ],
   "source": [
    "tfid_vect = TfidfVectorizer(stop_words ='english')\n",
    "count_train = tfid_vect.fit_transform(x_train)\n",
    "print(count_train)\n",
    "count_test = count_vect.transform(x_test)"
   ]
  },
  {
   "cell_type": "code",
   "execution_count": 33,
   "id": "28ee7b13",
   "metadata": {},
   "outputs": [
    {
     "data": {
      "text/plain": [
       "7959"
      ]
     },
     "execution_count": 33,
     "metadata": {},
     "output_type": "execute_result"
    }
   ],
   "source": [
    "len(tfid_vect.get_feature_names_out())"
   ]
  },
  {
   "cell_type": "code",
   "execution_count": 34,
   "id": "41cd12ab",
   "metadata": {},
   "outputs": [
    {
     "name": "stdout",
     "output_type": "stream",
     "text": [
      "[[0. 0. 0. ... 0. 0. 0.]\n",
      " [0. 0. 0. ... 0. 0. 0.]\n",
      " [0. 0. 0. ... 0. 0. 0.]\n",
      " ...\n",
      " [0. 0. 0. ... 0. 0. 0.]\n",
      " [0. 0. 0. ... 0. 0. 0.]\n",
      " [0. 0. 0. ... 0. 0. 0.]]\n"
     ]
    }
   ],
   "source": [
    "print(count_train.toarray())"
   ]
  },
  {
   "cell_type": "code",
   "execution_count": 59,
   "id": "54973146",
   "metadata": {},
   "outputs": [
    {
     "data": {
      "text/plain": [
       "(2091, 7959)"
      ]
     },
     "execution_count": 59,
     "metadata": {},
     "output_type": "execute_result"
    }
   ],
   "source": [
    "count_test.shape"
   ]
  },
  {
   "cell_type": "code",
   "execution_count": 37,
   "id": "9e9abf1e",
   "metadata": {},
   "outputs": [
    {
     "name": "stdout",
     "output_type": "stream",
     "text": [
      "                Algorithm  Accuracy\n",
      "0       PassiveAggressive  0.763271\n",
      "1  RandomForestClassifier  0.787661\n",
      "2  DecisionTreeClassifier  0.728838\n",
      "3      LogisticRegression  0.807269\n",
      "4                     SVC  0.809182\n"
     ]
    }
   ],
   "source": [
    "results = []\n",
    "\n",
    "# PassiveAggressiveClassifier\n",
    "classifier = PassiveAggressiveClassifier()\n",
    "classifier.fit(count_train, y_train)\n",
    "pred = classifier.predict(count_test)\n",
    "score = metrics.accuracy_score(y_test, pred)\n",
    "results.append(('PassiveAggressive', score))\n",
    "# print(\"PassiveAggressive accuracy: %0.3f\" % score)\n",
    "\n",
    "from sklearn.ensemble import RandomForestClassifier\n",
    "classifier = RandomForestClassifier()\n",
    "classifier.fit(count_train,y_train)\n",
    "pred = classifier.predict(count_test)\n",
    "score = metrics.accuracy_score(y_test,pred)\n",
    "results.append(('RandomForestClassifier',score))\n",
    "# print(\"accuracy: %0.3f\" %score)\n",
    "\n",
    "from sklearn.tree import DecisionTreeClassifier\n",
    "classifier = DecisionTreeClassifier()\n",
    "classifier.fit(count_train,y_train)\n",
    "pred = classifier.predict(count_test)\n",
    "score = metrics.accuracy_score(y_test,pred)\n",
    "results.append(('DecisionTreeClassifier',score))\n",
    "# print(\"accuracy: %0.3f\" %score)\n",
    "\n",
    "from sklearn.linear_model import LogisticRegression\n",
    "classifier = LogisticRegression()\n",
    "classifier.fit(count_train,y_train)\n",
    "pred = classifier.predict(count_test)\n",
    "score = metrics.accuracy_score(y_test,pred)\n",
    "results.append(('LogisticRegression',score))\n",
    "# print(\"accuracy: %0.3f\" %score)\n",
    "\n",
    "from sklearn.svm import SVC\n",
    "classifier = SVC()\n",
    "classifier.fit(count_train,y_train)\n",
    "pred = classifier.predict(count_test)\n",
    "score = metrics.accuracy_score(y_test,pred)\n",
    "results.append(('SVC',score))\n",
    "# print(\"accuracy: %0.3f\" %score)\n",
    "\n",
    "# Create DataFrame\n",
    "algorithm_comp = pd.DataFrame(results, columns=['Algorithm', 'Accuracy'])\n",
    "\n",
    "print(algorithm_comp)\n"
   ]
  },
  {
   "cell_type": "code",
   "execution_count": 45,
   "id": "ef596d79",
   "metadata": {},
   "outputs": [
    {
     "name": "stdout",
     "output_type": "stream",
     "text": [
      "Classification Report for SVC:\n",
      "              precision    recall  f1-score   support\n",
      "\n",
      "        FAKE       0.77      0.86      0.81      1008\n",
      "        REAL       0.86      0.76      0.80      1083\n",
      "\n",
      "    accuracy                           0.81      2091\n",
      "   macro avg       0.81      0.81      0.81      2091\n",
      "weighted avg       0.81      0.81      0.81      2091\n",
      "\n"
     ]
    }
   ],
   "source": [
    "# Find the algorithm with the highest accuracy\n",
    "best_algorithm = max(results, key=lambda x: x[1])\n",
    "best_algorithm_name = best_algorithm[0]\n",
    "\n",
    "# Re-train the best classifier and generate the classification report\n",
    "if best_algorithm_name == 'PassiveAggressive':\n",
    "    best_classifier = PassiveAggressiveClassifier()\n",
    "elif best_algorithm_name == 'RandomForestClassifier':\n",
    "    best_classifier = RandomForestClassifier()\n",
    "elif best_algorithm_name == 'DecisionTreeClassifier':\n",
    "    best_classifier = DecisionTreeClassifier()\n",
    "elif best_algorithm_name == 'LogisticRegression':\n",
    "    best_classifier = LogisticRegression()\n",
    "elif best_algorithm_name == 'SVC':\n",
    "    best_classifier = SVC()\n",
    "\n",
    "best_classifier.fit(count_train, y_train)\n",
    "pred = best_classifier.predict(count_test)\n",
    "report = metrics.classification_report(y_test, pred)\n",
    "print(f\"Classification Report for {best_algorithm_name}:\\n{report}\")"
   ]
  },
  {
   "cell_type": "code",
   "execution_count": 48,
   "id": "489f7754",
   "metadata": {},
   "outputs": [
    {
     "data": {
      "text/plain": [
       "array(['REAL'], dtype=object)"
      ]
     },
     "execution_count": 48,
     "metadata": {},
     "output_type": "execute_result"
    }
   ],
   "source": [
    "classifier.predict(count_train[661])"
   ]
  },
  {
   "cell_type": "markdown",
   "id": "d2a3c48f",
   "metadata": {},
   "source": [
    "# Hashing vector"
   ]
  },
  {
   "cell_type": "code",
   "execution_count": 51,
   "id": "21d0c1b9",
   "metadata": {},
   "outputs": [],
   "source": [
    "x_train,x_test,y_train,y_test = train_test_split(x,y,test_size =0.33,random_state =53)"
   ]
  },
  {
   "cell_type": "code",
   "execution_count": 54,
   "id": "f7fa1f4c",
   "metadata": {},
   "outputs": [
    {
     "data": {
      "text/plain": [
       "7959"
      ]
     },
     "execution_count": 54,
     "metadata": {},
     "output_type": "execute_result"
    }
   ],
   "source": [
    "len(count_vect.get_feature_names_out())"
   ]
  },
  {
   "cell_type": "code",
   "execution_count": 52,
   "id": "360596b2",
   "metadata": {},
   "outputs": [
    {
     "name": "stdout",
     "output_type": "stream",
     "text": [
      "  (0, 92453)\t-0.30151134457776363\n",
      "  (0, 119590)\t0.30151134457776363\n",
      "  (0, 152399)\t0.30151134457776363\n",
      "  (0, 277491)\t-0.30151134457776363\n",
      "  (0, 366521)\t-0.30151134457776363\n",
      "  (0, 757755)\t0.30151134457776363\n",
      "  (0, 791091)\t0.30151134457776363\n",
      "  (0, 907820)\t0.30151134457776363\n",
      "  (0, 963796)\t0.30151134457776363\n",
      "  (0, 971307)\t0.30151134457776363\n",
      "  (0, 1007753)\t0.30151134457776363\n",
      "  (1, 46353)\t0.4472135954999579\n",
      "  (1, 413315)\t-0.4472135954999579\n",
      "  (1, 421751)\t-0.4472135954999579\n",
      "  (1, 506429)\t-0.4472135954999579\n",
      "  (1, 907820)\t0.4472135954999579\n",
      "  (2, 222621)\t-0.5773502691896258\n",
      "  (2, 755395)\t0.5773502691896258\n",
      "  (2, 835051)\t0.5773502691896258\n",
      "  (3, 22218)\t0.35355339059327373\n",
      "  (3, 162168)\t-0.35355339059327373\n",
      "  (3, 256235)\t0.35355339059327373\n",
      "  (3, 556547)\t-0.35355339059327373\n",
      "  (3, 735306)\t-0.35355339059327373\n",
      "  (3, 897876)\t0.35355339059327373\n",
      "  :\t:\n",
      "  (4240, 239032)\t-0.3779644730092272\n",
      "  (4240, 678349)\t0.3779644730092272\n",
      "  (4240, 901028)\t0.3779644730092272\n",
      "  (4240, 907820)\t0.3779644730092272\n",
      "  (4241, 333938)\t0.5\n",
      "  (4241, 442388)\t0.5\n",
      "  (4241, 693006)\t-0.5\n",
      "  (4241, 744786)\t0.5\n",
      "  (4242, 231399)\t0.31622776601683794\n",
      "  (4242, 475620)\t-0.31622776601683794\n",
      "  (4242, 497406)\t0.31622776601683794\n",
      "  (4242, 555852)\t0.31622776601683794\n",
      "  (4242, 708296)\t-0.31622776601683794\n",
      "  (4242, 724261)\t-0.31622776601683794\n",
      "  (4242, 826131)\t0.31622776601683794\n",
      "  (4242, 907820)\t0.31622776601683794\n",
      "  (4242, 957175)\t-0.31622776601683794\n",
      "  (4242, 993015)\t0.31622776601683794\n",
      "  (4243, 73828)\t0.3779644730092272\n",
      "  (4243, 199542)\t0.3779644730092272\n",
      "  (4243, 204105)\t-0.3779644730092272\n",
      "  (4243, 466806)\t-0.3779644730092272\n",
      "  (4243, 727909)\t0.3779644730092272\n",
      "  (4243, 749937)\t-0.3779644730092272\n",
      "  (4243, 907820)\t0.3779644730092272\n"
     ]
    }
   ],
   "source": [
    "hash_vect = HashingVectorizer(stop_words ='english')\n",
    "count_train = hash_vect.fit_transform(x_train)\n",
    "print(count_train)\n",
    "count_test = count_vect.transform(x_test)"
   ]
  },
  {
   "cell_type": "code",
   "execution_count": 55,
   "id": "9e97f7b7",
   "metadata": {},
   "outputs": [
    {
     "name": "stdout",
     "output_type": "stream",
     "text": [
      "[[0. 0. 0. ... 0. 0. 0.]\n",
      " [0. 0. 0. ... 0. 0. 0.]\n",
      " [0. 0. 0. ... 0. 0. 0.]\n",
      " ...\n",
      " [0. 0. 0. ... 0. 0. 0.]\n",
      " [0. 0. 0. ... 0. 0. 0.]\n",
      " [0. 0. 0. ... 0. 0. 0.]]\n"
     ]
    }
   ],
   "source": [
    "print(count_train.toarray())"
   ]
  },
  {
   "cell_type": "code",
   "execution_count": 60,
   "id": "a65ad461",
   "metadata": {},
   "outputs": [
    {
     "data": {
      "text/plain": [
       "(2091, 7959)"
      ]
     },
     "execution_count": 60,
     "metadata": {},
     "output_type": "execute_result"
    }
   ],
   "source": [
    "count_test.shape"
   ]
  },
  {
   "cell_type": "code",
   "execution_count": 62,
   "id": "16e664ca",
   "metadata": {},
   "outputs": [],
   "source": [
    "# Initialize HashingVectorizer\n",
    "hash_vect = HashingVectorizer(stop_words='english')\n",
    "\n",
    "# Transform train and test data\n",
    "count_train = hash_vect.fit_transform(x_train)\n",
    "count_test = hash_vect.transform(x_test)\n",
    "\n"
   ]
  },
  {
   "cell_type": "code",
   "execution_count": 63,
   "id": "8b10808c",
   "metadata": {},
   "outputs": [],
   "source": [
    "# List to store results\n",
    "results = []\n",
    "\n",
    "# PassiveAggressiveClassifier\n",
    "classifier = PassiveAggressiveClassifier()\n",
    "classifier.fit(count_train, y_train)\n",
    "pred = classifier.predict(count_test)\n",
    "score = metrics.accuracy_score(y_test, pred)\n",
    "results.append(('PassiveAggressive', score))\n",
    "\n",
    "# RandomForestClassifier\n",
    "classifier = RandomForestClassifier()\n",
    "classifier.fit(count_train, y_train)\n",
    "pred = classifier.predict(count_test)\n",
    "score = metrics.accuracy_score(y_test, pred)\n",
    "results.append(('RandomForestClassifier', score))\n",
    "\n",
    "# DecisionTreeClassifier\n",
    "classifier = DecisionTreeClassifier()\n",
    "classifier.fit(count_train, y_train)\n",
    "pred = classifier.predict(count_test)\n",
    "score = metrics.accuracy_score(y_test, pred)\n",
    "results.append(('DecisionTreeClassifier', score))\n",
    "\n",
    "# LogisticRegression\n",
    "classifier = LogisticRegression()\n",
    "classifier.fit(count_train, y_train)\n",
    "pred = classifier.predict(count_test)\n",
    "score = metrics.accuracy_score(y_test, pred)\n",
    "results.append(('LogisticRegression', score))\n",
    "\n",
    "# SVC\n",
    "classifier = SVC()\n",
    "classifier.fit(count_train, y_train)\n",
    "pred = classifier.predict(count_test)\n",
    "score = metrics.accuracy_score(y_test, pred)\n",
    "results.append(('SVC', score))\n"
   ]
  },
  {
   "cell_type": "code",
   "execution_count": 64,
   "id": "ff5ef66c",
   "metadata": {},
   "outputs": [
    {
     "name": "stdout",
     "output_type": "stream",
     "text": [
      "                Algorithm  Accuracy\n",
      "0       PassiveAggressive  0.764706\n",
      "1  RandomForestClassifier  0.815878\n",
      "2  DecisionTreeClassifier  0.757054\n",
      "3      LogisticRegression  0.800096\n",
      "4                     SVC  0.806313\n",
      "Classification Report for RandomForestClassifier:\n",
      "              precision    recall  f1-score   support\n",
      "\n",
      "        FAKE       0.76      0.88      0.82      1008\n",
      "        REAL       0.87      0.74      0.80      1083\n",
      "\n",
      "    accuracy                           0.81      2091\n",
      "   macro avg       0.81      0.81      0.81      2091\n",
      "weighted avg       0.82      0.81      0.81      2091\n",
      "\n"
     ]
    }
   ],
   "source": [
    "\n",
    "# Create DataFrame\n",
    "algorithm_comp = pd.DataFrame(results, columns=['Algorithm', 'Accuracy'])\n",
    "print(algorithm_comp)\n",
    "\n",
    "# Find the algorithm with the highest accuracy\n",
    "best_algorithm = max(results, key=lambda x: x[1])\n",
    "best_algorithm_name = best_algorithm[0]\n",
    "\n",
    "# Re-train the best classifier and generate the classification report\n",
    "if best_algorithm_name == 'PassiveAggressive':\n",
    "    best_classifier = PassiveAggressiveClassifier()\n",
    "elif best_algorithm_name == 'RandomForestClassifier':\n",
    "    best_classifier = RandomForestClassifier()\n",
    "elif best_algorithm_name == 'DecisionTreeClassifier':\n",
    "    best_classifier = DecisionTreeClassifier()\n",
    "elif best_algorithm_name == 'LogisticRegression':\n",
    "    best_classifier = LogisticRegression()\n",
    "elif best_algorithm_name == 'SVC':\n",
    "    best_classifier = SVC()\n",
    "\n",
    "best_classifier.fit(count_train, y_train)\n",
    "pred = best_classifier.predict(count_test)\n",
    "report = metrics.classification_report(y_test, pred)\n",
    "print(f\"Classification Report for {best_algorithm_name}:\\n{report}\")\n"
   ]
  },
  {
   "cell_type": "code",
   "execution_count": null,
   "id": "3bb7985d",
   "metadata": {},
   "outputs": [],
   "source": []
  }
 ],
 "metadata": {
  "kernelspec": {
   "display_name": "Python 3 (ipykernel)",
   "language": "python",
   "name": "python3"
  },
  "language_info": {
   "codemirror_mode": {
    "name": "ipython",
    "version": 3
   },
   "file_extension": ".py",
   "mimetype": "text/x-python",
   "name": "python",
   "nbconvert_exporter": "python",
   "pygments_lexer": "ipython3",
   "version": "3.11.5"
  }
 },
 "nbformat": 4,
 "nbformat_minor": 5
}
